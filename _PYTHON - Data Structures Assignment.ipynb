{
 "cells": [
  {
   "cell_type": "markdown",
   "id": "55f4122b-8de8-44f0-bf13-4f196140afb5",
   "metadata": {},
   "source": [
    "# Q1. How do you comment code in Python? What are the different types of comments?"
   ]
  },
  {
   "cell_type": "code",
   "execution_count": 4,
   "id": "c2b3d166-e4b3-4888-9be5-d525368b9fa5",
   "metadata": {},
   "outputs": [],
   "source": [
    "'''There are two main types of comments in Python:\n",
    "1. Sngle-line comments\n",
    "2. Mlti-line comments (also known as block comments).\n",
    "\n",
    "Single-Line Comments: Single-line comments are used to comment on a single line of code. To create a single-line comment in Python,\n",
    "we can use the # character. Everything after # on the same line is considered a comment and is ignored by the Python interpreter. Here's an example:'''\n",
    "\n",
    "# This is a single-line comment\n",
    "x = 5  # This is a comment at the end of a line"
   ]
  },
  {
   "cell_type": "markdown",
   "id": "bd1d3309-c2d0-43f0-8702-f19fd5e30571",
   "metadata": {},
   "source": [
    "Multi-Line Comments (Docstrings): In Python, multi-line comments are often represented as docstrings, which are used to document functions, modules,\n",
    "classes, and methods.Docstrings are enclosed in triple quotes (''' or \"\"\") and can span multiple lines.They are used for documentation purposes and can\n",
    "be accessed using the __doc__ attribute of an object. Here's an example:"
   ]
  },
  {
   "cell_type": "code",
   "execution_count": 1,
   "id": "111b0b06-648a-4e8b-9087-10f9d16a6369",
   "metadata": {},
   "outputs": [],
   "source": [
    "'''This is a multi-line comment (docstring). It is often used to provide documentation for functions, classes, or modules.'''"
   ]
  },
  {
   "cell_type": "markdown",
   "id": "c748c742-44aa-4667-b21f-9ddb6e70ec60",
   "metadata": {},
   "source": [
    "# Q2. What are variables in Python? How do you declare and assign values to variables?"
   ]
  },
  {
   "cell_type": "markdown",
   "id": "fdb60af4-49bb-477a-8ffe-a33ca59252a7",
   "metadata": {},
   "source": [
    "Variable Declaration: In Python, we don't need to explicitly declare the type of a variable. We can create a variable simply by naming it and assigning a value. For example:\n",
    "\n",
    "variable_name = value"
   ]
  },
  {
   "cell_type": "markdown",
   "id": "f7b69a7a-7556-4b64-a8ff-fe282d429c65",
   "metadata": {},
   "source": [
    "Assigning Values: You can assign different types of values to variables, such as numbers, strings, or even the results of expressions. Here are some examples:"
   ]
  },
  {
   "cell_type": "code",
   "execution_count": 1,
   "id": "9e4c0bf2-437f-4dc1-a1aa-f36b28b4e168",
   "metadata": {},
   "outputs": [],
   "source": [
    "# Assigning integer values\n",
    "age = 25\n",
    "count = 1000\n",
    "\n",
    "# Assigning floating-point values\n",
    "temperature = 98.6\n",
    "pi = 3.14159\n",
    "\n",
    "# Assigning string values\n",
    "name = \"John Doe\"\n",
    "message = 'Hello, world!'\n",
    "\n",
    "# Assigning the result of an expression\n",
    "result = 3 * age + 2\n",
    "\n",
    "# Assigning a boolean value\n",
    "is_valid = True\n"
   ]
  },
  {
   "cell_type": "markdown",
   "id": "88c3476e-9314-4eac-95ea-ee53e04e54bb",
   "metadata": {},
   "source": [
    "Reassigning Variables: We can change the value of a variable by assigning a new value to it:"
   ]
  },
  {
   "cell_type": "code",
   "execution_count": 2,
   "id": "ac297e0f-f506-4e4f-b361-6b1ba563e37f",
   "metadata": {},
   "outputs": [],
   "source": [
    "x = 10\n",
    "x = 20  # Reassigning x with a new value"
   ]
  },
  {
   "cell_type": "markdown",
   "id": "3c1d1c97-9716-4882-a12a-894e0de26463",
   "metadata": {},
   "source": [
    "Multiple Assignments: Python allows us to assign values to multiple variables in a single line:"
   ]
  },
  {
   "cell_type": "code",
   "execution_count": 3,
   "id": "8e9f7344-4978-4991-897e-acce8f3544dc",
   "metadata": {},
   "outputs": [],
   "source": [
    "a, b, c = 1, 2, 3"
   ]
  },
  {
   "cell_type": "markdown",
   "id": "d9f790e7-73a7-4663-a162-641c0587d55b",
   "metadata": {},
   "source": [
    "Variable Naming Conventions: It's a good practice to follow naming conventions for variables. Variable names should be descriptive and follow the PEP 8 style guide. Variable names are typically lowercase, with words separated by underscores (snake_case) for better readability. For example:"
   ]
  },
  {
   "cell_type": "code",
   "execution_count": 4,
   "id": "e8be2b34-57fe-4954-9d28-0e1036566138",
   "metadata": {},
   "outputs": [],
   "source": [
    "user_name = \"Alice\"\n",
    "total_count = 42"
   ]
  },
  {
   "cell_type": "markdown",
   "id": "6480f765-6b32-4685-addf-107be3ea4e25",
   "metadata": {},
   "source": [
    "# Q3. How do you convert one data type to another in Python?"
   ]
  },
  {
   "cell_type": "markdown",
   "id": "3ec3b6f7-2494-4583-8ac1-a5ac6b741bbe",
   "metadata": {},
   "source": [
    "In Python, you can convert one data type to another using various built-in functions or type constructors. Here are some common type conversion methods:\n",
    "\n",
    "Explicit Type Casting (Type Conversion Functions): Python provides several functions to explicitly convert data from one type to another. These functions include:\n",
    "\n",
    "    int(): Convert to an integer.\n",
    "    float(): Convert to a floating-point number.\n",
    "    str(): Convert to a string.\n",
    "    list(): Convert to a list.\n",
    "    tuple(): Convert to a tuple.\n",
    "    set(): Convert to a set.\n",
    "    dict(): Convert to a dictionary."
   ]
  },
  {
   "cell_type": "code",
   "execution_count": 28,
   "id": "c8059560-56c7-42ff-84ca-030d9e174358",
   "metadata": {},
   "outputs": [],
   "source": [
    "x = 42\n",
    "y = float(x)  # Convert to a float\n",
    "z = str(x)    # Convert to a string\n",
    "a = list(range(1, 5))  # Convert to a list"
   ]
  },
  {
   "cell_type": "markdown",
   "id": "036cc67b-5245-4904-aa77-509b062ed8b0",
   "metadata": {},
   "source": [
    "Implicit Type Conversion (Coercion): Python can perform automatic type conversion in some cases. This is known as implicit type conversion or coercion. For example, when performing operations involving different data types, Python will automatically convert them to a common data type to perform the operation. For instance:"
   ]
  },
  {
   "cell_type": "code",
   "execution_count": 29,
   "id": "af131c54-148e-4e68-a2d0-3df46b264ae6",
   "metadata": {},
   "outputs": [],
   "source": [
    "x = 5     # Integer\n",
    "y = 2.5   # Float\n",
    "z = x + y  # Implicit conversion to float, result is 7.5"
   ]
  },
  {
   "cell_type": "markdown",
   "id": "4080cd4f-35a0-4267-877f-e35ec88a471e",
   "metadata": {},
   "source": [
    "Using Constructors: We can use data type constructors (e.g., int(), float(), str()) to create a new value of a different data type based on the original value. For example:"
   ]
  },
  {
   "cell_type": "code",
   "execution_count": 30,
   "id": "0f01db48-89a3-4d56-8c47-9ac9acbd0595",
   "metadata": {},
   "outputs": [],
   "source": [
    "x = \"42\"\n",
    "y = int(x)  # Convert the string to an integer"
   ]
  },
  {
   "cell_type": "markdown",
   "id": "f8366143-65d2-4c63-9337-fd45b274fa22",
   "metadata": {},
   "source": [
    "Converting Between Data Structures: We can convert between different data structures in Python, such as lists, tuples, and sets. For example:"
   ]
  },
  {
   "cell_type": "code",
   "execution_count": 31,
   "id": "ef20c86c-7ae4-421c-94db-6ab388affac3",
   "metadata": {},
   "outputs": [],
   "source": [
    "my_list = [1, 2, 3]\n",
    "my_tuple = tuple(my_list)  # Convert a list to a tuple\n",
    "my_set = set(my_list)      # Convert a list to a set"
   ]
  },
  {
   "cell_type": "markdown",
   "id": "a783820a-34f9-4a4f-b314-5dda3acffae8",
   "metadata": {},
   "source": [
    "# Q4. How do you write and execute a Python script from the command line?"
   ]
  },
  {
   "cell_type": "markdown",
   "id": "8bce6023-16bd-4751-9707-e79edde2abb9",
   "metadata": {},
   "source": [
    "To write and execute a Python script from the command line, you need to follow these steps:\n",
    "\n",
    "1. Write the Python Script: Open a text editor or code editor and create a new file. Write your Python code in this file and save it with a .py file extension. For example, we can create a file called myscript.py and add our Python code to it.\n",
    "2. Open the Command Line: Open your command prompt or terminal. We can do this by searching for \"Command Prompt\" or \"Terminal\" in your operating system's search bar.\n",
    "3. Navigate to the Script's Directory: Use the cd command (change directory) to navigate to the directory where your Python script is located.\n",
    "4. Execute the Python Script: To execute your Python script, simply run the Python interpreter followed by the name of your script file.\n",
    "5. View the Output: Once you run the script, the Python interpreter will execute it, and any output (e.g., print statements) will be displayed in the terminal."
   ]
  },
  {
   "cell_type": "markdown",
   "id": "240f0b72-9124-4371-9c3d-2a534d0e5d2b",
   "metadata": {},
   "source": [
    "# Q5. Given a list my_list = [1, 2, 3, 4, 5], write the code to slice the list and obtain the sub-list [2, 3]."
   ]
  },
  {
   "cell_type": "code",
   "execution_count": 7,
   "id": "d1333a4e-b5c3-44f6-854a-6c876c8a1fd1",
   "metadata": {},
   "outputs": [
    {
     "data": {
      "text/plain": [
       "[2, 3]"
      ]
     },
     "execution_count": 7,
     "metadata": {},
     "output_type": "execute_result"
    }
   ],
   "source": [
    "my_list = [1, 2, 3, 4, 5]\n",
    "\n",
    "my_list[1:3]"
   ]
  },
  {
   "cell_type": "markdown",
   "id": "04ccc69a-d103-42ae-bf28-845eb1b0c1e6",
   "metadata": {},
   "source": [
    "# Q6. What is a complex number in mathematics, and how is it represented in Python?"
   ]
  },
  {
   "cell_type": "markdown",
   "id": "12cab081-94e2-4b55-b1c6-a1182e9d46ba",
   "metadata": {},
   "source": [
    "In mathematics, a complex number is a number that can be expressed in the form a + bi, where a and b are real numbers, and i is the imaginary unit. The imaginary unit i is defined as the square root of -1. Complex numbers are an extension of the real numbers and are used to represent quantities involving both real and imaginary parts. They are often used in various fields of mathematics, science, and engineering, particularly in solving equations that involve square roots of negative numbers and in the study of electrical circuits, quantum mechanics, and more.\n",
    "\n",
    "Here's a breakdown of the components of a complex number:\n",
    "\n",
    "    a is the real part of the complex number.\n",
    "    b is the imaginary part of the complex number.\n",
    "    i represents the square root of -1.\n",
    "    \n",
    "In Python, complex numbers can be represented using the complex() constructor or by directly specifying the real and imaginary parts. The imaginary part is specified with a j or J suffix. Here are some examples of representing complex numbers in Python:\n",
    "\n",
    "Using complex() constructor:"
   ]
  },
  {
   "cell_type": "code",
   "execution_count": 8,
   "id": "8700a406-6913-42f3-bc7c-38f600b6c5c7",
   "metadata": {},
   "outputs": [],
   "source": [
    "# Using complex() constructor\n",
    "z1 = complex(3, 4)  # Represents 3 + 4i\n",
    "z2 = complex(0, 1)  # Represents 0 + 1i (same as just 1j)"
   ]
  },
  {
   "cell_type": "markdown",
   "id": "7fb63951-f9b0-4964-93c4-fe03084ee036",
   "metadata": {},
   "source": [
    "Directly specifying real and imaginary parts:"
   ]
  },
  {
   "cell_type": "code",
   "execution_count": 11,
   "id": "b6bab253-8730-435f-8749-e96c69815556",
   "metadata": {},
   "outputs": [],
   "source": [
    "# Directly specifying real and imaginary parts\n",
    "z3 = 2 + 5j       # Represents 2 + 5i\n",
    "z4 = 1.5 - 2j     # Represents 1.5 - 2i\n",
    "z5 = 0 + 1j       # Represents 0 + 1i (same as complex(0, 1))"
   ]
  },
  {
   "cell_type": "markdown",
   "id": "b0957774-4179-4904-a009-80fe22f1b1bc",
   "metadata": {},
   "source": [
    "# Q7. What is the correct way to declare a variable named age and assign the value 25 to it?"
   ]
  },
  {
   "cell_type": "code",
   "execution_count": 12,
   "id": "5a6cf09f-3719-464d-848d-7e60ea42ea0f",
   "metadata": {},
   "outputs": [],
   "source": [
    "age = 25"
   ]
  },
  {
   "cell_type": "markdown",
   "id": "a2430477-55bd-42d3-893f-0daca317b0d9",
   "metadata": {},
   "source": [
    "    age is the variable name.\n",
    "    = is the assignment operator.\n",
    "    25 is the value being assigned to the age variable."
   ]
  },
  {
   "cell_type": "markdown",
   "id": "326e8140-2f17-4b98-a755-72ce576a0fe1",
   "metadata": {},
   "source": [
    "# Q8. Declare a variable named price and assign the value 9.99 to it. What data type does this variable belong to?"
   ]
  },
  {
   "cell_type": "code",
   "execution_count": 14,
   "id": "8aab0750-fe72-4e5f-9621-6d028db77f52",
   "metadata": {},
   "outputs": [
    {
     "name": "stdout",
     "output_type": "stream",
     "text": [
      "Data type of variable price is: <class 'float'>\n"
     ]
    }
   ],
   "source": [
    "price = 9.99\n",
    "\n",
    "print('Data type of variable price is:', type(price))"
   ]
  },
  {
   "cell_type": "markdown",
   "id": "2ce8b3aa-9b2a-473e-8107-615d38f40647",
   "metadata": {},
   "source": [
    "# Q9. Create a variable named name and assign your full name to it as a string. How would you print the value of this variable?"
   ]
  },
  {
   "cell_type": "code",
   "execution_count": 15,
   "id": "7aaaf4cd-6c84-4211-832d-f30ab8e42018",
   "metadata": {},
   "outputs": [
    {
     "name": "stdout",
     "output_type": "stream",
     "text": [
      "Ritesh Kumar Dubey\n"
     ]
    }
   ],
   "source": [
    "name = 'Ritesh Kumar Dubey'\n",
    "print(name)"
   ]
  },
  {
   "cell_type": "markdown",
   "id": "2bd58f00-9aad-4cda-a5cf-7d46bcd00330",
   "metadata": {},
   "source": [
    "# Q10. Given the string \"Hello, World!\", extract the substring \"World\"."
   ]
  },
  {
   "cell_type": "code",
   "execution_count": 25,
   "id": "85ac3e21-8ce6-46f7-aff0-b0c7dbc9dcb8",
   "metadata": {},
   "outputs": [
    {
     "name": "stdout",
     "output_type": "stream",
     "text": [
      "The required sub string is:  World!\n"
     ]
    }
   ],
   "source": [
    "word = \"Hello World!\"\n",
    "print('The required sub string is: ',word.split()[1])"
   ]
  },
  {
   "cell_type": "markdown",
   "id": "64348dc8-775b-4bcf-b8fc-f51846139101",
   "metadata": {},
   "source": [
    "# Q11. Create a variable named \"is_student\" and assign it a boolean value indicating whether you are currently a student or not."
   ]
  },
  {
   "cell_type": "code",
   "execution_count": 26,
   "id": "ef230196-43b4-4a60-8ff0-f89861a0f228",
   "metadata": {},
   "outputs": [],
   "source": [
    "is_student = False"
   ]
  }
 ],
 "metadata": {
  "kernelspec": {
   "display_name": "Python 3 (ipykernel)",
   "language": "python",
   "name": "python3"
  },
  "language_info": {
   "codemirror_mode": {
    "name": "ipython",
    "version": 3
   },
   "file_extension": ".py",
   "mimetype": "text/x-python",
   "name": "python",
   "nbconvert_exporter": "python",
   "pygments_lexer": "ipython3",
   "version": "3.10.8"
  }
 },
 "nbformat": 4,
 "nbformat_minor": 5
}
